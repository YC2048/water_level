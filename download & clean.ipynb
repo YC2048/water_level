{
 "cells": [
  {
   "cell_type": "markdown",
   "id": "dec74f7e-b547-4bfc-908f-789dbd87ea1d",
   "metadata": {},
   "source": [
    "### request\n",
    "\n",
    "* example request: https://api.tidesandcurrents.noaa.gov/api/prod/datagetter?begin_date=20180101&end_date=20181231&station=8735180&product=hourly_height&datum=STND&time_zone=lst_ldt&units=metric&format=json\n",
    "\n",
    "* template request: https://api.tidesandcurrents.noaa.gov/api/prod/datagetter?begin_date= {00000000} &end_date= {00000000} &station= {station ID} &product=hourly_height&datum=STND&time_zone=lst_ldt&units=metric&format=json\n",
    "\n",
    "* Note: Requested period should be no more than 365 days."
   ]
  },
  {
   "cell_type": "code",
   "execution_count": null,
   "id": "dbb9a249-f7ea-45c1-92fc-69c1f8f0d79a",
   "metadata": {},
   "outputs": [],
   "source": [
    "t_req = \"https://api.tidesandcurrents.noaa.gov/api/prod/datagetter?begin_date={d1}&end_date={d2}&station={sid}&product=hourly_height&datum=STND&time_zone=lst_ldt&units=metric&format=json\""
   ]
  },
  {
   "cell_type": "code",
   "execution_count": null,
   "id": "b4c28358-4c10-4990-aa3f-88072433a08b",
   "metadata": {},
   "outputs": [],
   "source": [
    "t_req.format(d1 = '20180101', d2 = '20181231', sid = '8735180')"
   ]
  },
  {
   "cell_type": "markdown",
   "id": "554942f4-90f1-4833-a6ce-99a19f575633",
   "metadata": {},
   "source": [
    "### MetaData"
   ]
  },
  {
   "cell_type": "code",
   "execution_count": null,
   "id": "cc949ab9-f18f-4b51-a482-c3f37a1be284",
   "metadata": {},
   "outputs": [],
   "source": [
    "# type = waterlevels gives the list of stations active in meassuring.\n",
    "station_list_json_url = \"https://api.tidesandcurrents.noaa.gov/mdapi/prod/webapi/stations.json?type=waterlevels\""
   ]
  },
  {
   "cell_type": "code",
   "execution_count": null,
   "id": "602e37f6-5019-4d7a-b918-3447355e0bbc",
   "metadata": {},
   "outputs": [],
   "source": [
    "import pandas as pd"
   ]
  },
  {
   "cell_type": "code",
   "execution_count": null,
   "id": "f2461643-24cc-45e2-9cfd-e313ad1c6e3c",
   "metadata": {},
   "outputs": [],
   "source": [
    "station_df = pd.read_json(station_list_json_url)\n",
    "station_df"
   ]
  },
  {
   "cell_type": "code",
   "execution_count": null,
   "id": "32c203e6-db70-4b8b-a904-2e5019c5e0ce",
   "metadata": {},
   "outputs": [],
   "source": [
    "station_li = []\n",
    "for station in station_df['stations']:\n",
    "    station_li += [dict(station)]\n",
    "station_df = pd.DataFrame(station_li)"
   ]
  },
  {
   "cell_type": "code",
   "execution_count": null,
   "id": "275b1359-9476-461f-a006-cf659a554f8b",
   "metadata": {},
   "outputs": [],
   "source": [
    "station_li = station_df[['id', 'name', 'lat', 'lng']].set_index('id')\n",
    "station_li"
   ]
  },
  {
   "cell_type": "markdown",
   "id": "8ce5ac78-b701-477f-a453-6e52a7c7e372",
   "metadata": {},
   "source": [
    "### Download"
   ]
  },
  {
   "cell_type": "code",
   "execution_count": null,
   "id": "966a3384-f7e6-48a1-9b88-0a383d138864",
   "metadata": {},
   "outputs": [],
   "source": [
    "ids = station_li['id'].tolist()\n",
    "years = [y for y in range(2018, 2024)]"
   ]
  },
  {
   "cell_type": "code",
   "execution_count": null,
   "id": "1e7c87de-e729-4595-b096-d57d92e12456",
   "metadata": {},
   "outputs": [],
   "source": [
    "def download(sid, year):\n",
    "    url = t_req.format(d1 = str(year)+'0101', d2 = str(year)+'1231', sid = sid)\n",
    "    data = requests.get(url)\n",
    "    print(data.content[:100])\n",
    "    with open('./yearly_by_staion/'+str(sid) + '_' + str(year) + '.json', 'wb+') as out:\n",
    "        out.write(data.content)"
   ]
  },
  {
   "cell_type": "code",
   "execution_count": null,
   "id": "0b8b3ec3-e546-4bb9-b957-5719e171083e",
   "metadata": {
    "scrolled": true,
    "tags": []
   },
   "outputs": [],
   "source": [
    "for i in ids:\n",
    "    for y in years:\n",
    "        download(i, y)"
   ]
  },
  {
   "cell_type": "markdown",
   "id": "c73b9a0b-7158-42d1-b39e-a64ef0c960eb",
   "metadata": {},
   "source": [
    "### Clean"
   ]
  },
  {
   "cell_type": "code",
   "execution_count": null,
   "id": "4e83cfd2-3138-4407-bead-38a4a9790c62",
   "metadata": {
    "scrolled": true,
    "tags": []
   },
   "outputs": [],
   "source": [
    "def getYearlyData(year):\n",
    "    res = pd.DataFrame()\n",
    "    for i in ids:\n",
    "        # print(i)\n",
    "        with open('./yearly by station/{}_{}.json'.format(i, year)) as f:\n",
    "            j = json.load(f)\n",
    "            if 'data' not in j.keys():\n",
    "                print('station {} no data'.format(i))\n",
    "                continue\n",
    "            df = pd.DataFrame(j['data']).set_index('t')['v']\n",
    "            res[str(i)] = df\n",
    "    return res"
   ]
  },
  {
   "cell_type": "code",
   "execution_count": null,
   "id": "f48cb049-f643-4768-baf5-bb18eee18c85",
   "metadata": {
    "scrolled": true,
    "tags": []
   },
   "outputs": [],
   "source": [
    "getYearlyData(2018)"
   ]
  },
  {
   "cell_type": "code",
   "execution_count": null,
   "id": "090ef21c-db5f-47b3-8335-16121fec7e1f",
   "metadata": {
    "scrolled": true,
    "tags": []
   },
   "outputs": [],
   "source": [
    "df = pd.concat([getYearlyData(2018), getYearlyData(2019)])\n",
    "df = pd.concat([df, getYearlyData(2020)])\n",
    "df = pd.concat([df, getYearlyData(2021)])\n",
    "df = pd.concat([df, getYearlyData(2022)])\n",
    "df = pd.concat([df, getYearlyData(2023)])\n",
    "df"
   ]
  },
  {
   "cell_type": "code",
   "execution_count": null,
   "id": "e96d5fd1-c8b2-46f9-ad32-f60f45122b63",
   "metadata": {
    "scrolled": true,
    "tags": []
   },
   "outputs": [],
   "source": []
  },
  {
   "cell_type": "markdown",
   "id": "6dcd63c3-a8c9-4532-85e3-230f5348f029",
   "metadata": {
    "tags": []
   },
   "source": [
    "### Dump"
   ]
  },
  {
   "cell_type": "code",
   "execution_count": null,
   "id": "15d9e8b6-69bf-4a36-8009-234d5c46b2ed",
   "metadata": {},
   "outputs": [],
   "source": [
    "def yearlyDataDumper(year):\n",
    "    data = getYearlyData(year)\n",
    "    with open('all_' + str(year) + '.json', 'w+') as out:\n",
    "        out.write(data.to_json())\n",
    "    print('{} dump complete'.format(year))"
   ]
  },
  {
   "cell_type": "code",
   "execution_count": null,
   "id": "f76e2250-0f23-4a29-b096-a327d8091ed1",
   "metadata": {
    "scrolled": true,
    "tags": []
   },
   "outputs": [],
   "source": [
    "for i in range(2018, 2024):\n",
    "    yearlyDataDumper(i)"
   ]
  },
  {
   "cell_type": "code",
   "execution_count": null,
   "id": "8a4df7b8-7d6e-42c0-88e6-ca704fb328ee",
   "metadata": {},
   "outputs": [],
   "source": [
    "with open('stations.json','w+') as out:\n",
    "    out.write(station_li.to_json())"
   ]
  },
  {
   "cell_type": "code",
   "execution_count": null,
   "id": "56657b87-2e16-4969-bcbc-7302548adc5a",
   "metadata": {},
   "outputs": [],
   "source": [
    "with open('all.json', 'w+') as out:\n",
    "    out.write(df.to_json())"
   ]
  },
  {
   "cell_type": "code",
   "execution_count": null,
   "id": "98541a04-bea1-4178-a609-3136abdda3d6",
   "metadata": {},
   "outputs": [],
   "source": []
  }
 ],
 "metadata": {
  "kernelspec": {
   "display_name": "Python 3 (ipykernel)",
   "language": "python",
   "name": "python3"
  },
  "language_info": {
   "codemirror_mode": {
    "name": "ipython",
    "version": 3
   },
   "file_extension": ".py",
   "mimetype": "text/x-python",
   "name": "python",
   "nbconvert_exporter": "python",
   "pygments_lexer": "ipython3",
   "version": "3.9.6"
  }
 },
 "nbformat": 4,
 "nbformat_minor": 5
}
